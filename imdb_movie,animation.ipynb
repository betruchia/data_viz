{
 "cells": [
  {
   "cell_type": "code",
   "execution_count": 128,
   "id": "951fa238",
   "metadata": {
    "ExecuteTime": {
     "end_time": "2022-04-25T22:53:50.283986Z",
     "start_time": "2022-04-25T22:53:50.277991Z"
    }
   },
   "outputs": [],
   "source": [
    "import re\n",
    "import numpy as np\n",
    "import pandas as pd\n",
    "import requests\n",
    "import json\n",
    "from bs4 import BeautifulSoup\n",
    "from lxml import etree\n",
    "from multiprocess import Pool, cpu_count\n",
    "from sqlalchemy import create_engine"
   ]
  },
  {
   "cell_type": "code",
   "execution_count": 129,
   "id": "03cfe1d2",
   "metadata": {
    "ExecuteTime": {
     "end_time": "2022-04-25T22:53:51.719467Z",
     "start_time": "2022-04-25T22:53:50.287984Z"
    }
   },
   "outputs": [],
   "source": [
    "db_server='pymysql'\n",
    "user='root'\n",
    "db_port = '3306'\n",
    "password = 'admin'\n",
    "ip = 'localhost'\n",
    "db_name = 'animation_movies'\n",
    "engine = create_engine(f'mysql+{db_server}://{user}:{password}@{ip}:{db_port}/{db_name}?charset=utf8')\n",
    "conn = engine.connect()\n",
    "\n",
    "response = requests.get(\"https://www.imdb.com/search/title/?title_type=movie&genres=animation&sort=release_date,asc&explore=title_type,genres\")\n",
    "html = response.content\n",
    "soup = BeautifulSoup(html)\n",
    "total_titles = int(soup.select(\"#main > div > div.nav > div.desc > span:nth-child(1)\")[0].text.replace(\"1-50 of \",\"\").replace(\",\",\"\").replace(\" titles.\",\"\"))\n",
    "total_pages = (total_titles//50)+1\n",
    "page = [(50*p)+1 for p in range(total_pages)]"
   ]
  },
  {
   "cell_type": "code",
   "execution_count": 130,
   "id": "d9ffc23e",
   "metadata": {
    "ExecuteTime": {
     "end_time": "2022-04-25T22:53:51.734463Z",
     "start_time": "2022-04-25T22:53:51.723469Z"
    }
   },
   "outputs": [],
   "source": [
    "def extract_urls(page):\n",
    "    \"\"\"função vai extrair os links dos filmes em cada página da busca\"\"\"\n",
    "    import requests\n",
    "    from bs4 import BeautifulSoup\n",
    "    response = requests.get(f\"https://www.imdb.com/search/title/?title_type=movie&genres=animation&sort=release_date,asc&explore=title_type,genres&start={page}\")\n",
    "    html = response.content\n",
    "    soup = BeautifulSoup(html)\n",
    "    return list(map(lambda x: \"https://www.imdb.com\" + x.get(\"href\"), soup.select(\"div > div > div > h3 > a\")))"
   ]
  },
  {
   "cell_type": "code",
   "execution_count": 131,
   "id": "57817549",
   "metadata": {
    "ExecuteTime": {
     "end_time": "2022-04-25T22:56:02.494520Z",
     "start_time": "2022-04-25T22:53:51.740458Z"
    }
   },
   "outputs": [],
   "source": [
    "pool = Pool()\n",
    "pages = pool.map(extract_urls, page)\n",
    "pool.terminate()"
   ]
  },
  {
   "cell_type": "code",
   "execution_count": 132,
   "id": "1294963b",
   "metadata": {
    "ExecuteTime": {
     "end_time": "2022-04-25T22:56:02.510511Z",
     "start_time": "2022-04-25T22:56:02.497518Z"
    }
   },
   "outputs": [],
   "source": [
    "urls = [url for url_list in pages for url in url_list]"
   ]
  },
  {
   "cell_type": "code",
   "execution_count": 133,
   "id": "af8cb2d5",
   "metadata": {
    "ExecuteTime": {
     "end_time": "2022-04-25T22:56:02.542492Z",
     "start_time": "2022-04-25T22:56:02.514509Z"
    }
   },
   "outputs": [
    {
     "data": {
      "text/plain": [
       "8222"
      ]
     },
     "execution_count": 133,
     "metadata": {},
     "output_type": "execute_result"
    }
   ],
   "source": [
    "len(urls)"
   ]
  },
  {
   "cell_type": "code",
   "execution_count": 134,
   "id": "6923fe5e",
   "metadata": {
    "ExecuteTime": {
     "end_time": "2022-04-25T22:56:02.588466Z",
     "start_time": "2022-04-25T22:56:02.546490Z"
    }
   },
   "outputs": [],
   "source": [
    "def extract_data(url):\n",
    "    \"\"\"função vai extrair os dados dos filmes em cada link\"\"\"\n",
    "    import requests\n",
    "    from bs4 import BeautifulSoup\n",
    "    from lxml import etree\n",
    "    import pandas as pd\n",
    "    response = requests.get(url)\n",
    "    html = response.content\n",
    "    soup = BeautifulSoup(html)\n",
    "    movie = {}\n",
    "    movie[\"url\"] = url\n",
    "    movie[\"name\"] = soup.select(\"h1\")[0].text\n",
    "    try:\n",
    "        movie[\"release year\"] = soup.select(\"a[href$='releaseinfo?ref_=tt_ov_rdat']\")[0].text\n",
    "    except:\n",
    "        movie[\"release year\"] = \"unknown\"\n",
    "    try:\n",
    "        soup_xpath = etree.HTML(soup.prettify())\n",
    "        movie[\"rating\"] = soup_xpath.xpath(\"//*[contains(text(), 'IMDb RATING')]/following-sibling::a/div/div/div/div/span\")[0].text.strip()\n",
    "    except:\n",
    "        movie[\"rating\"] = \"unknown\"\n",
    "    try:\n",
    "        soup_xpath = etree.HTML(soup.prettify())\n",
    "        movie[\"votes\"] = soup_xpath.xpath(\"//*[contains(text(), 'IMDb RATING')]/following-sibling::a/div/div/div/div\")[2].text.strip()\n",
    "    except:\n",
    "        movie[\"votes\"] = \"unknown\"\n",
    "    try:\n",
    "        movie[\"country of origin\"] = \", \".join(list(map(lambda x: x.text, soup.select(\"a[href^='/search/title/?country_of_origin=']\"))))\n",
    "    except:\n",
    "        movie[\"country of origin\"] = \"unknown\"\n",
    "    try:\n",
    "        movie[\"languages\"] = \", \".join(list(map(lambda x: x.text, soup.select(\"a[href^='/search/title?title_type=feature&primary_language=']\"))))\n",
    "    except:\n",
    "        movie[\"languages\"] = \"unknown\"\n",
    "    try:\n",
    "        soup_xpath = etree.HTML(soup.prettify())\n",
    "        director_ = soup_xpath.xpath(\"//*[contains(text(), 'Director')]/following-sibling::div/ul/li/a\")\n",
    "        movie[\"director\"] = \", \".join(list(set(map(lambda x: x.text.strip(), director_))))\n",
    "    except:\n",
    "        movie[\"director\"] = \"unknown\"\n",
    "    try:\n",
    "        soup_xpath = etree.HTML(soup.prettify())\n",
    "        star_ = soup_xpath.xpath(\"//*[contains(text(), 'Star')]/following-sibling::div/ul/li/a\")\n",
    "        movie[\"stars\"] = \", \".join(list(set(map(lambda x: x.text.strip(), star_))))\n",
    "    except:\n",
    "        movie[\"stars\"] = \"unknown\"\n",
    "    movie[\"html\"] = response.text\n",
    "    return pd.DataFrame(movie, index=[0])"
   ]
  },
  {
   "cell_type": "code",
   "execution_count": 135,
   "id": "ebff66eb",
   "metadata": {
    "ExecuteTime": {
     "end_time": "2022-04-25T23:04:00.835315Z",
     "start_time": "2022-04-25T22:56:02.592464Z"
    }
   },
   "outputs": [],
   "source": [
    "pool = Pool()\n",
    "data = pool.map(extract_data, urls[0:1000])\n",
    "pool.terminate()"
   ]
  },
  {
   "cell_type": "code",
   "execution_count": 136,
   "id": "dd44ca31",
   "metadata": {
    "ExecuteTime": {
     "end_time": "2022-04-25T23:04:00.992227Z",
     "start_time": "2022-04-25T23:04:00.842312Z"
    }
   },
   "outputs": [],
   "source": [
    "movies = pd.concat(data)"
   ]
  },
  {
   "cell_type": "code",
   "execution_count": 137,
   "id": "5e780c44",
   "metadata": {
    "ExecuteTime": {
     "end_time": "2022-04-25T23:04:20.290744Z",
     "start_time": "2022-04-25T23:04:00.995224Z"
    }
   },
   "outputs": [],
   "source": [
    "movies.to_csv(\"imdb_animation_movies_pt1.csv\", sep=\"|\", index=False)"
   ]
  },
  {
   "cell_type": "code",
   "execution_count": 138,
   "id": "3ae8ce20",
   "metadata": {
    "ExecuteTime": {
     "end_time": "2022-04-25T23:20:56.286875Z",
     "start_time": "2022-04-25T23:04:20.293745Z"
    }
   },
   "outputs": [],
   "source": [
    "pool = Pool()\n",
    "data = pool.map(extract_data, urls[1000:3000])\n",
    "pool.terminate()"
   ]
  },
  {
   "cell_type": "code",
   "execution_count": 139,
   "id": "81f9eb38",
   "metadata": {
    "ExecuteTime": {
     "end_time": "2022-04-25T23:20:56.859538Z",
     "start_time": "2022-04-25T23:20:56.289873Z"
    }
   },
   "outputs": [],
   "source": [
    "movies = pd.concat(data)"
   ]
  },
  {
   "cell_type": "code",
   "execution_count": 140,
   "id": "553be9d8",
   "metadata": {
    "ExecuteTime": {
     "end_time": "2022-04-25T23:21:34.734781Z",
     "start_time": "2022-04-25T23:20:56.861540Z"
    }
   },
   "outputs": [],
   "source": [
    "movies.to_csv(\"imdb_animation_movies_pt2.csv\", sep=\"|\", index=False)"
   ]
  },
  {
   "cell_type": "code",
   "execution_count": 141,
   "id": "726065a3",
   "metadata": {
    "ExecuteTime": {
     "end_time": "2022-04-25T23:45:22.885594Z",
     "start_time": "2022-04-25T23:21:34.736724Z"
    }
   },
   "outputs": [],
   "source": [
    "pool = Pool()\n",
    "data = pool.map(extract_data, urls[3000:6000])\n",
    "pool.terminate()"
   ]
  },
  {
   "cell_type": "code",
   "execution_count": 142,
   "id": "02d2ce63",
   "metadata": {
    "ExecuteTime": {
     "end_time": "2022-04-25T23:45:23.939991Z",
     "start_time": "2022-04-25T23:45:22.888594Z"
    }
   },
   "outputs": [],
   "source": [
    "movies = pd.concat(data)"
   ]
  },
  {
   "cell_type": "code",
   "execution_count": 143,
   "id": "e95b1ced",
   "metadata": {
    "ExecuteTime": {
     "end_time": "2022-04-25T23:46:20.613498Z",
     "start_time": "2022-04-25T23:45:23.942990Z"
    }
   },
   "outputs": [],
   "source": [
    "movies.to_csv(\"imdb_animation_movies_pt3.csv\", sep=\"|\", index=False)"
   ]
  },
  {
   "cell_type": "code",
   "execution_count": 144,
   "id": "312bb6a2",
   "metadata": {
    "ExecuteTime": {
     "end_time": "2022-04-26T00:02:06.849742Z",
     "start_time": "2022-04-25T23:46:20.615500Z"
    }
   },
   "outputs": [],
   "source": [
    "pool = Pool()\n",
    "data = pool.map(extract_data, urls[6000:])\n",
    "pool.terminate()"
   ]
  },
  {
   "cell_type": "code",
   "execution_count": 145,
   "id": "9970c828",
   "metadata": {
    "ExecuteTime": {
     "end_time": "2022-04-26T00:02:08.311904Z",
     "start_time": "2022-04-26T00:02:06.854738Z"
    }
   },
   "outputs": [],
   "source": [
    "movies = pd.concat(data)"
   ]
  },
  {
   "cell_type": "code",
   "execution_count": 146,
   "id": "78b42d43",
   "metadata": {
    "ExecuteTime": {
     "end_time": "2022-04-26T00:02:54.011733Z",
     "start_time": "2022-04-26T00:02:08.314902Z"
    }
   },
   "outputs": [],
   "source": [
    "movies.to_csv(\"imdb_animation_movies_pt4.csv\", sep=\"|\", index=False)"
   ]
  },
  {
   "cell_type": "code",
   "execution_count": 147,
   "id": "64de2492",
   "metadata": {
    "ExecuteTime": {
     "end_time": "2022-04-26T00:03:41.650459Z",
     "start_time": "2022-04-26T00:02:54.015732Z"
    }
   },
   "outputs": [],
   "source": [
    "movies1 = pd.read_csv(\"imdb_animation_movies_pt1.csv\", sep=\"|\")"
   ]
  },
  {
   "cell_type": "code",
   "execution_count": 148,
   "id": "b575364d",
   "metadata": {
    "ExecuteTime": {
     "end_time": "2022-04-26T00:05:01.463983Z",
     "start_time": "2022-04-26T00:03:41.653459Z"
    }
   },
   "outputs": [],
   "source": [
    "movies2 = pd.read_csv(\"imdb_animation_movies_pt2.csv\", sep=\"|\")"
   ]
  },
  {
   "cell_type": "code",
   "execution_count": 149,
   "id": "d07cfce8",
   "metadata": {
    "ExecuteTime": {
     "end_time": "2022-04-26T00:07:27.792218Z",
     "start_time": "2022-04-26T00:05:01.466984Z"
    }
   },
   "outputs": [],
   "source": [
    "movies3 = pd.read_csv(\"imdb_animation_movies_pt3.csv\", sep=\"|\")"
   ]
  },
  {
   "cell_type": "code",
   "execution_count": 150,
   "id": "76df7e34",
   "metadata": {
    "ExecuteTime": {
     "end_time": "2022-04-26T00:08:19.656522Z",
     "start_time": "2022-04-26T00:07:28.000093Z"
    }
   },
   "outputs": [],
   "source": [
    "movies4 = pd.read_csv(\"imdb_animation_movies_pt4.csv\", sep=\"|\")"
   ]
  },
  {
   "cell_type": "code",
   "execution_count": 151,
   "id": "044b937f",
   "metadata": {
    "ExecuteTime": {
     "end_time": "2022-04-26T00:08:47.368677Z",
     "start_time": "2022-04-26T00:08:20.765886Z"
    }
   },
   "outputs": [],
   "source": [
    "anim_movies = pd.concat([movies1,movies2,movies3,movies4])"
   ]
  },
  {
   "cell_type": "code",
   "execution_count": 196,
   "id": "dff39f7a",
   "metadata": {
    "ExecuteTime": {
     "end_time": "2022-04-26T01:49:03.284131Z",
     "start_time": "2022-04-26T01:49:03.227165Z"
    }
   },
   "outputs": [],
   "source": [
    "movies = anim_movies.reset_index(drop=True)\n",
    "movies.drop(columns=\"html\", inplace=True)"
   ]
  },
  {
   "cell_type": "code",
   "execution_count": 197,
   "id": "14d5f297",
   "metadata": {
    "ExecuteTime": {
     "end_time": "2022-04-26T01:49:15.368464Z",
     "start_time": "2022-04-26T01:49:15.341229Z"
    }
   },
   "outputs": [],
   "source": [
    "movies[\"country of origin\"] = movies[\"country of origin\"].str.split(\", \")"
   ]
  },
  {
   "cell_type": "code",
   "execution_count": 198,
   "id": "0cd2c71e",
   "metadata": {
    "ExecuteTime": {
     "end_time": "2022-04-26T01:49:27.329701Z",
     "start_time": "2022-04-26T01:49:27.301709Z"
    }
   },
   "outputs": [],
   "source": [
    "movies[\"languages\"] = movies[\"languages\"].str.split(\", \")"
   ]
  },
  {
   "cell_type": "code",
   "execution_count": 199,
   "id": "37f4a475",
   "metadata": {
    "ExecuteTime": {
     "end_time": "2022-04-26T01:49:39.487262Z",
     "start_time": "2022-04-26T01:49:39.475270Z"
    }
   },
   "outputs": [],
   "source": [
    "sep_countries = movies[[\"url\", \"country of origin\"]]"
   ]
  },
  {
   "cell_type": "code",
   "execution_count": 200,
   "id": "28c70050",
   "metadata": {
    "ExecuteTime": {
     "end_time": "2022-04-26T01:49:51.614974Z",
     "start_time": "2022-04-26T01:49:51.587352Z"
    }
   },
   "outputs": [],
   "source": [
    "countries = sep_countries.explode(\"country of origin\")"
   ]
  },
  {
   "cell_type": "code",
   "execution_count": 201,
   "id": "778e20fe",
   "metadata": {
    "ExecuteTime": {
     "end_time": "2022-04-26T01:50:04.525470Z",
     "start_time": "2022-04-26T01:50:04.513476Z"
    }
   },
   "outputs": [],
   "source": [
    "countries.loc[countries[\"country of origin\"] == \"Yugoslavia\", \"country of origin\"] = \"Serbia\""
   ]
  },
  {
   "cell_type": "code",
   "execution_count": 202,
   "id": "5881f60d",
   "metadata": {
    "ExecuteTime": {
     "end_time": "2022-04-26T01:50:16.417103Z",
     "start_time": "2022-04-26T01:50:16.405110Z"
    }
   },
   "outputs": [],
   "source": [
    "countries.loc[countries[\"country of origin\"] == \"Serbia and Montenegro\", \"country of origin\"] = \"Serbia\""
   ]
  },
  {
   "cell_type": "code",
   "execution_count": 203,
   "id": "7172bd24",
   "metadata": {
    "ExecuteTime": {
     "end_time": "2022-04-26T01:50:28.256696Z",
     "start_time": "2022-04-26T01:50:28.244703Z"
    }
   },
   "outputs": [],
   "source": [
    "countries.loc[countries[\"country of origin\"] == \"Federal Republic of Yugoslavia\", \"country of origin\"] = \"Serbia\""
   ]
  },
  {
   "cell_type": "code",
   "execution_count": 204,
   "id": "7ddb1c99",
   "metadata": {
    "ExecuteTime": {
     "end_time": "2022-04-26T01:50:40.198551Z",
     "start_time": "2022-04-26T01:50:40.185560Z"
    }
   },
   "outputs": [],
   "source": [
    "countries.loc[countries[\"country of origin\"] == \"Soviet Union\", \"country of origin\"] = \"Russia\""
   ]
  },
  {
   "cell_type": "code",
   "execution_count": 205,
   "id": "dbf12321",
   "metadata": {
    "ExecuteTime": {
     "end_time": "2022-04-26T01:50:52.020048Z",
     "start_time": "2022-04-26T01:50:52.009054Z"
    }
   },
   "outputs": [],
   "source": [
    "countries.loc[countries[\"country of origin\"] == \"Occupied Palestinian Territory\", \"country of origin\"] = \"Palestinian Territories\""
   ]
  },
  {
   "cell_type": "code",
   "execution_count": 206,
   "id": "1d34f1c6",
   "metadata": {
    "ExecuteTime": {
     "end_time": "2022-04-26T01:51:04.375661Z",
     "start_time": "2022-04-26T01:51:04.363668Z"
    }
   },
   "outputs": [],
   "source": [
    "countries.loc[countries[\"country of origin\"] == \"East Germany\", \"country of origin\"] = \"Germany\""
   ]
  },
  {
   "cell_type": "code",
   "execution_count": 207,
   "id": "9b3ce25e",
   "metadata": {
    "ExecuteTime": {
     "end_time": "2022-04-26T01:51:16.153108Z",
     "start_time": "2022-04-26T01:51:16.141115Z"
    }
   },
   "outputs": [],
   "source": [
    "countries.loc[countries[\"country of origin\"] == \"West Germany\", \"country of origin\"] = \"Germany\""
   ]
  },
  {
   "cell_type": "code",
   "execution_count": 208,
   "id": "8843fa58",
   "metadata": {
    "ExecuteTime": {
     "end_time": "2022-04-26T01:51:28.091135Z",
     "start_time": "2022-04-26T01:51:28.078142Z"
    }
   },
   "outputs": [],
   "source": [
    "countries.loc[countries[\"country of origin\"] == \"Czechoslovakia\", \"country of origin\"] = \"Czech Republic\""
   ]
  },
  {
   "cell_type": "code",
   "execution_count": 209,
   "id": "4380934e",
   "metadata": {
    "ExecuteTime": {
     "end_time": "2022-04-26T01:51:39.992032Z",
     "start_time": "2022-04-26T01:51:39.980019Z"
    }
   },
   "outputs": [],
   "source": [
    "countries.loc[countries[\"country of origin\"] == \"Czechia\", \"country of origin\"] = \"Czech Republic\""
   ]
  },
  {
   "cell_type": "code",
   "execution_count": 210,
   "id": "b91f9881",
   "metadata": {
    "ExecuteTime": {
     "end_time": "2022-04-26T01:51:53.203227Z",
     "start_time": "2022-04-26T01:51:51.854793Z"
    }
   },
   "outputs": [],
   "source": [
    "countries.to_sql(name='countries', con=conn, if_exists='replace', index=False)"
   ]
  },
  {
   "cell_type": "code",
   "execution_count": 211,
   "id": "6ec61778",
   "metadata": {
    "ExecuteTime": {
     "end_time": "2022-04-26T01:52:06.080680Z",
     "start_time": "2022-04-26T01:52:06.068687Z"
    }
   },
   "outputs": [],
   "source": [
    "sep_languages = movies[[\"url\", \"languages\"]]"
   ]
  },
  {
   "cell_type": "code",
   "execution_count": 212,
   "id": "16f24185",
   "metadata": {
    "ExecuteTime": {
     "end_time": "2022-04-26T01:52:17.845704Z",
     "start_time": "2022-04-26T01:52:17.819459Z"
    }
   },
   "outputs": [],
   "source": [
    "languages = sep_languages.explode(\"languages\")"
   ]
  },
  {
   "cell_type": "code",
   "execution_count": 213,
   "id": "5dfe77a0",
   "metadata": {
    "ExecuteTime": {
     "end_time": "2022-04-26T01:52:30.691444Z",
     "start_time": "2022-04-26T01:52:29.819728Z"
    }
   },
   "outputs": [],
   "source": [
    "languages.to_sql(name='languages', con=conn, if_exists='replace', index=False)"
   ]
  },
  {
   "cell_type": "code",
   "execution_count": 221,
   "id": "58284f53",
   "metadata": {
    "ExecuteTime": {
     "end_time": "2022-04-26T01:57:13.210859Z",
     "start_time": "2022-04-26T01:57:13.192885Z"
    }
   },
   "outputs": [
    {
     "name": "stderr",
     "output_type": "stream",
     "text": [
      "C:\\Users\\Patricia\\anaconda3\\lib\\site-packages\\pandas\\core\\indexing.py:1732: SettingWithCopyWarning: \n",
      "A value is trying to be set on a copy of a slice from a DataFrame\n",
      "\n",
      "See the caveats in the documentation: https://pandas.pydata.org/pandas-docs/stable/user_guide/indexing.html#returning-a-view-versus-a-copy\n",
      "  self._setitem_single_block(indexer, value, name)\n",
      "C:\\Users\\Patricia\\anaconda3\\lib\\site-packages\\pandas\\core\\indexing.py:723: SettingWithCopyWarning: \n",
      "A value is trying to be set on a copy of a slice from a DataFrame\n",
      "\n",
      "See the caveats in the documentation: https://pandas.pydata.org/pandas-docs/stable/user_guide/indexing.html#returning-a-view-versus-a-copy\n",
      "  iloc._setitem_with_indexer(indexer, value, self.name)\n",
      "C:\\Users\\Patricia\\anaconda3\\lib\\site-packages\\pandas\\util\\_decorators.py:311: SettingWithCopyWarning: \n",
      "A value is trying to be set on a copy of a slice from a DataFrame\n",
      "\n",
      "See the caveats in the documentation: https://pandas.pydata.org/pandas-docs/stable/user_guide/indexing.html#returning-a-view-versus-a-copy\n",
      "  return func(*args, **kwargs)\n"
     ]
    }
   ],
   "source": [
    "rating = movies[[\"url\",\"rating\",\"votes\"]]\n",
    "rating.loc[rating[\"rating\"] == \"unknown\", \"rating\"] = np.nan\n",
    "rating.loc[rating[\"votes\"] == \"unknown\", \"votes\"] = np.nan\n",
    "rating.dropna(subset=[\"votes\"],inplace = True)"
   ]
  },
  {
   "cell_type": "code",
   "execution_count": 232,
   "id": "a3bcaa22",
   "metadata": {
    "ExecuteTime": {
     "end_time": "2022-04-26T02:24:28.745752Z",
     "start_time": "2022-04-26T02:24:28.723745Z"
    }
   },
   "outputs": [
    {
     "name": "stderr",
     "output_type": "stream",
     "text": [
      "C:\\Users\\Patricia\\AppData\\Local\\Temp/ipykernel_12828/971808868.py:1: SettingWithCopyWarning: \n",
      "A value is trying to be set on a copy of a slice from a DataFrame.\n",
      "Try using .loc[row_indexer,col_indexer] = value instead\n",
      "\n",
      "See the caveats in the documentation: https://pandas.pydata.org/pandas-docs/stable/user_guide/indexing.html#returning-a-view-versus-a-copy\n",
      "  rating[\"votes\"] = rating[\"votes\"].str.replace(\"K\",\"*1000\")\n"
     ]
    }
   ],
   "source": [
    "rating[\"votes\"] = rating[\"votes\"].str.replace(\"K\",\"*1000\")"
   ]
  },
  {
   "cell_type": "code",
   "execution_count": 235,
   "id": "8def1a6c",
   "metadata": {
    "ExecuteTime": {
     "end_time": "2022-04-26T02:53:16.401919Z",
     "start_time": "2022-04-26T02:53:16.386908Z"
    }
   },
   "outputs": [
    {
     "name": "stderr",
     "output_type": "stream",
     "text": [
      "C:\\Users\\Patricia\\AppData\\Local\\Temp/ipykernel_12828/827333234.py:1: SettingWithCopyWarning: \n",
      "A value is trying to be set on a copy of a slice from a DataFrame.\n",
      "Try using .loc[row_indexer,col_indexer] = value instead\n",
      "\n",
      "See the caveats in the documentation: https://pandas.pydata.org/pandas-docs/stable/user_guide/indexing.html#returning-a-view-versus-a-copy\n",
      "  rating[\"votes\"] = rating[\"votes\"].str.replace(\"M\",\"*1000000\")\n"
     ]
    }
   ],
   "source": [
    "rating[\"votes\"] = rating[\"votes\"].str.replace(\"M\",\"*1000000\")"
   ]
  },
  {
   "cell_type": "code",
   "execution_count": 237,
   "id": "f5826c7f",
   "metadata": {
    "ExecuteTime": {
     "end_time": "2022-04-26T02:54:10.170200Z",
     "start_time": "2022-04-26T02:54:08.412098Z"
    }
   },
   "outputs": [
    {
     "name": "stderr",
     "output_type": "stream",
     "text": [
      "C:\\Users\\Patricia\\AppData\\Local\\Temp/ipykernel_12828/2233325294.py:1: SettingWithCopyWarning: \n",
      "A value is trying to be set on a copy of a slice from a DataFrame.\n",
      "Try using .loc[row_indexer,col_indexer] = value instead\n",
      "\n",
      "See the caveats in the documentation: https://pandas.pydata.org/pandas-docs/stable/user_guide/indexing.html#returning-a-view-versus-a-copy\n",
      "  rating[\"votes\"] = rating[\"votes\"].map(pd.eval).astype(int)\n"
     ]
    }
   ],
   "source": [
    "rating[\"votes\"] = rating[\"votes\"].map(pd.eval).astype(int)"
   ]
  },
  {
   "cell_type": "code",
   "execution_count": 238,
   "id": "4903fdea",
   "metadata": {
    "ExecuteTime": {
     "end_time": "2022-04-26T02:54:37.250227Z",
     "start_time": "2022-04-26T02:54:36.316898Z"
    }
   },
   "outputs": [],
   "source": [
    "rating.to_sql(name='rating', con=conn, if_exists='replace', index=False)"
   ]
  },
  {
   "cell_type": "code",
   "execution_count": 224,
   "id": "00a3d840",
   "metadata": {
    "ExecuteTime": {
     "end_time": "2022-04-26T01:58:04.355230Z",
     "start_time": "2022-04-26T01:58:04.344234Z"
    }
   },
   "outputs": [],
   "source": [
    "movies.drop(columns=[\"country of origin\",\"languages\",\"rating\",\"votes\"],inplace=True)"
   ]
  },
  {
   "cell_type": "code",
   "execution_count": 225,
   "id": "74f24566",
   "metadata": {
    "ExecuteTime": {
     "end_time": "2022-04-26T01:58:17.034816Z",
     "start_time": "2022-04-26T01:58:16.146109Z"
    }
   },
   "outputs": [],
   "source": [
    "movies.to_sql(name='movies', con=conn, if_exists='replace', index=False)"
   ]
  },
  {
   "cell_type": "code",
   "execution_count": null,
   "id": "3c9e0e62",
   "metadata": {},
   "outputs": [],
   "source": []
  },
  {
   "cell_type": "code",
   "execution_count": 172,
   "id": "19b2802e",
   "metadata": {
    "ExecuteTime": {
     "end_time": "2022-04-26T00:09:57.444536Z",
     "start_time": "2022-04-26T00:09:55.511644Z"
    }
   },
   "outputs": [],
   "source": [
    "bechdel = pd.read_csv(\"raw_bechdel.csv\")"
   ]
  },
  {
   "cell_type": "code",
   "execution_count": 173,
   "id": "46c0637d",
   "metadata": {
    "ExecuteTime": {
     "end_time": "2022-04-26T00:09:57.712383Z",
     "start_time": "2022-04-26T00:09:57.446537Z"
    }
   },
   "outputs": [],
   "source": [
    "bechdel.loc[7595,\"imdb_id\"] = 810819"
   ]
  },
  {
   "cell_type": "code",
   "execution_count": 174,
   "id": "a24f9b52",
   "metadata": {
    "ExecuteTime": {
     "end_time": "2022-04-26T00:09:58.374025Z",
     "start_time": "2022-04-26T00:09:57.715384Z"
    }
   },
   "outputs": [],
   "source": [
    "bechdel.loc[8209,\"imdb_id\"] = 451279"
   ]
  },
  {
   "cell_type": "code",
   "execution_count": 175,
   "id": "1eb1bf06",
   "metadata": {
    "ExecuteTime": {
     "end_time": "2022-04-26T00:09:59.033626Z",
     "start_time": "2022-04-26T00:09:58.445963Z"
    }
   },
   "outputs": [],
   "source": [
    "bechdel.loc[8547,\"imdb_id\"] = 2527338"
   ]
  },
  {
   "cell_type": "code",
   "execution_count": 176,
   "id": "a95eed08",
   "metadata": {
    "ExecuteTime": {
     "end_time": "2022-04-26T00:10:00.041073Z",
     "start_time": "2022-04-26T00:09:59.036627Z"
    }
   },
   "outputs": [],
   "source": [
    "bechdel.dropna(subset=[\"imdb_id\"],inplace = True)"
   ]
  },
  {
   "cell_type": "code",
   "execution_count": 177,
   "id": "aaf1550c",
   "metadata": {
    "ExecuteTime": {
     "end_time": "2022-04-26T00:10:00.465808Z",
     "start_time": "2022-04-26T00:10:00.044049Z"
    }
   },
   "outputs": [],
   "source": [
    "bechdel[\"imdb_id\"] = bechdel[\"imdb_id\"].astype(int).astype(str)"
   ]
  },
  {
   "cell_type": "code",
   "execution_count": 178,
   "id": "c7e9385d",
   "metadata": {
    "ExecuteTime": {
     "end_time": "2022-04-26T00:10:00.811608Z",
     "start_time": "2022-04-26T00:10:00.467808Z"
    }
   },
   "outputs": [],
   "source": [
    "bechdel[\"imdb_id\"] = bechdel[\"imdb_id\"].str.zfill(7)"
   ]
  },
  {
   "cell_type": "code",
   "execution_count": 179,
   "id": "d18404bd",
   "metadata": {
    "ExecuteTime": {
     "end_time": "2022-04-26T00:10:01.017490Z",
     "start_time": "2022-04-26T00:10:00.814607Z"
    }
   },
   "outputs": [],
   "source": [
    "bechdel[\"imdb_id\"] = \"https://www.imdb.com/title/tt\" + bechdel[\"imdb_id\"] + \"/\""
   ]
  },
  {
   "cell_type": "code",
   "execution_count": 180,
   "id": "a5ddf97e",
   "metadata": {
    "ExecuteTime": {
     "end_time": "2022-04-26T00:10:14.125010Z",
     "start_time": "2022-04-26T00:10:01.020490Z"
    }
   },
   "outputs": [],
   "source": [
    "bechdel.to_sql(name='bechdel', con=conn, if_exists='replace', index=False)"
   ]
  }
 ],
 "metadata": {
  "kernelspec": {
   "display_name": "Python 3 (ipykernel)",
   "language": "python",
   "name": "python3"
  },
  "language_info": {
   "codemirror_mode": {
    "name": "ipython",
    "version": 3
   },
   "file_extension": ".py",
   "mimetype": "text/x-python",
   "name": "python",
   "nbconvert_exporter": "python",
   "pygments_lexer": "ipython3",
   "version": "3.9.7"
  },
  "toc": {
   "base_numbering": 1,
   "nav_menu": {},
   "number_sections": true,
   "sideBar": true,
   "skip_h1_title": false,
   "title_cell": "Table of Contents",
   "title_sidebar": "Contents",
   "toc_cell": false,
   "toc_position": {},
   "toc_section_display": true,
   "toc_window_display": false
  },
  "varInspector": {
   "cols": {
    "lenName": 16,
    "lenType": 16,
    "lenVar": 40
   },
   "kernels_config": {
    "python": {
     "delete_cmd_postfix": "",
     "delete_cmd_prefix": "del ",
     "library": "var_list.py",
     "varRefreshCmd": "print(var_dic_list())"
    },
    "r": {
     "delete_cmd_postfix": ") ",
     "delete_cmd_prefix": "rm(",
     "library": "var_list.r",
     "varRefreshCmd": "cat(var_dic_list()) "
    }
   },
   "types_to_exclude": [
    "module",
    "function",
    "builtin_function_or_method",
    "instance",
    "_Feature"
   ],
   "window_display": false
  }
 },
 "nbformat": 4,
 "nbformat_minor": 5
}
